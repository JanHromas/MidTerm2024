{
 "cells": [
  {
   "cell_type": "code",
   "execution_count": 95,
   "metadata": {},
   "outputs": [],
   "source": [
    "%matplotlib inline\n",
    "import pandas as pd\n",
    "import seaborn as sns\n",
    "import math\n",
    "import matplotlib.pyplot as plt\n",
    "import scipy.stats as stats\n",
    "import numpy as np"
   ]
  },
  {
   "cell_type": "markdown",
   "metadata": {},
   "source": [
    "For each company calculate how many days Open price was the same as Adj Close\n",
    "price."
   ]
  },
  {
   "cell_type": "code",
   "execution_count": 96,
   "metadata": {},
   "outputs": [
    {
     "data": {
      "text/html": [
       "<div>\n",
       "<style scoped>\n",
       "    .dataframe tbody tr th:only-of-type {\n",
       "        vertical-align: middle;\n",
       "    }\n",
       "\n",
       "    .dataframe tbody tr th {\n",
       "        vertical-align: top;\n",
       "    }\n",
       "\n",
       "    .dataframe thead th {\n",
       "        text-align: right;\n",
       "    }\n",
       "</style>\n",
       "<table border=\"1\" class=\"dataframe\">\n",
       "  <thead>\n",
       "    <tr style=\"text-align: right;\">\n",
       "      <th></th>\n",
       "      <th>Date</th>\n",
       "      <th>High</th>\n",
       "      <th>Low</th>\n",
       "      <th>Open</th>\n",
       "      <th>Close</th>\n",
       "      <th>Volume</th>\n",
       "      <th>Adj Close</th>\n",
       "      <th>Company</th>\n",
       "    </tr>\n",
       "  </thead>\n",
       "  <tbody>\n",
       "    <tr>\n",
       "      <th>0</th>\n",
       "      <td>2017-11-13</td>\n",
       "      <td>32.013332</td>\n",
       "      <td>31.556667</td>\n",
       "      <td>31.626667</td>\n",
       "      <td>31.900000</td>\n",
       "      <td>1667700.0</td>\n",
       "      <td>31.900000</td>\n",
       "      <td>ACGL</td>\n",
       "    </tr>\n",
       "    <tr>\n",
       "      <th>1</th>\n",
       "      <td>2017-11-14</td>\n",
       "      <td>32.049999</td>\n",
       "      <td>31.753332</td>\n",
       "      <td>31.906668</td>\n",
       "      <td>31.853333</td>\n",
       "      <td>1342500.0</td>\n",
       "      <td>31.853333</td>\n",
       "      <td>ACGL</td>\n",
       "    </tr>\n",
       "    <tr>\n",
       "      <th>2</th>\n",
       "      <td>2017-11-15</td>\n",
       "      <td>32.206669</td>\n",
       "      <td>31.500000</td>\n",
       "      <td>31.756666</td>\n",
       "      <td>32.153332</td>\n",
       "      <td>1646400.0</td>\n",
       "      <td>32.153332</td>\n",
       "      <td>ACGL</td>\n",
       "    </tr>\n",
       "    <tr>\n",
       "      <th>3</th>\n",
       "      <td>2017-11-16</td>\n",
       "      <td>32.230000</td>\n",
       "      <td>31.840000</td>\n",
       "      <td>32.203335</td>\n",
       "      <td>31.896667</td>\n",
       "      <td>1642800.0</td>\n",
       "      <td>31.896667</td>\n",
       "      <td>ACGL</td>\n",
       "    </tr>\n",
       "    <tr>\n",
       "      <th>4</th>\n",
       "      <td>2017-11-17</td>\n",
       "      <td>32.026669</td>\n",
       "      <td>31.716667</td>\n",
       "      <td>31.760000</td>\n",
       "      <td>31.986668</td>\n",
       "      <td>1018800.0</td>\n",
       "      <td>31.986668</td>\n",
       "      <td>ACGL</td>\n",
       "    </tr>\n",
       "  </tbody>\n",
       "</table>\n",
       "</div>"
      ],
      "text/plain": [
       "         Date       High        Low       Open      Close     Volume  \\\n",
       "0  2017-11-13  32.013332  31.556667  31.626667  31.900000  1667700.0   \n",
       "1  2017-11-14  32.049999  31.753332  31.906668  31.853333  1342500.0   \n",
       "2  2017-11-15  32.206669  31.500000  31.756666  32.153332  1646400.0   \n",
       "3  2017-11-16  32.230000  31.840000  32.203335  31.896667  1642800.0   \n",
       "4  2017-11-17  32.026669  31.716667  31.760000  31.986668  1018800.0   \n",
       "\n",
       "   Adj Close Company  \n",
       "0  31.900000    ACGL  \n",
       "1  31.853333    ACGL  \n",
       "2  32.153332    ACGL  \n",
       "3  31.896667    ACGL  \n",
       "4  31.986668    ACGL  "
      ]
     },
     "execution_count": 96,
     "metadata": {},
     "output_type": "execute_result"
    }
   ],
   "source": [
    "df_ACGL = pd.read_csv('ACGL.csv')\n",
    "df_ACGL['Company'] = 'ACGL'\n",
    "df_ACGL.head()\n",
    "#len(df_ACGL[df_ACGL['Open'] == df_ACGL['Adj Close']])"
   ]
  },
  {
   "cell_type": "code",
   "execution_count": 97,
   "metadata": {},
   "outputs": [
    {
     "data": {
      "text/html": [
       "<div>\n",
       "<style scoped>\n",
       "    .dataframe tbody tr th:only-of-type {\n",
       "        vertical-align: middle;\n",
       "    }\n",
       "\n",
       "    .dataframe tbody tr th {\n",
       "        vertical-align: top;\n",
       "    }\n",
       "\n",
       "    .dataframe thead th {\n",
       "        text-align: right;\n",
       "    }\n",
       "</style>\n",
       "<table border=\"1\" class=\"dataframe\">\n",
       "  <thead>\n",
       "    <tr style=\"text-align: right;\">\n",
       "      <th></th>\n",
       "      <th>Date</th>\n",
       "      <th>High</th>\n",
       "      <th>Low</th>\n",
       "      <th>Open</th>\n",
       "      <th>Close</th>\n",
       "      <th>Volume</th>\n",
       "      <th>Adj Close</th>\n",
       "      <th>Company</th>\n",
       "    </tr>\n",
       "  </thead>\n",
       "  <tbody>\n",
       "    <tr>\n",
       "      <th>0</th>\n",
       "      <td>2017-11-13</td>\n",
       "      <td>258.910004</td>\n",
       "      <td>255.399994</td>\n",
       "      <td>256.589996</td>\n",
       "      <td>258.630005</td>\n",
       "      <td>167900.0</td>\n",
       "      <td>227.394241</td>\n",
       "      <td>ESS</td>\n",
       "    </tr>\n",
       "    <tr>\n",
       "      <th>1</th>\n",
       "      <td>2017-11-14</td>\n",
       "      <td>258.899994</td>\n",
       "      <td>256.040009</td>\n",
       "      <td>257.709991</td>\n",
       "      <td>256.820007</td>\n",
       "      <td>323800.0</td>\n",
       "      <td>225.802856</td>\n",
       "      <td>ESS</td>\n",
       "    </tr>\n",
       "    <tr>\n",
       "      <th>2</th>\n",
       "      <td>2017-11-15</td>\n",
       "      <td>259.829987</td>\n",
       "      <td>251.919998</td>\n",
       "      <td>256.679993</td>\n",
       "      <td>252.149994</td>\n",
       "      <td>352900.0</td>\n",
       "      <td>221.696838</td>\n",
       "      <td>ESS</td>\n",
       "    </tr>\n",
       "    <tr>\n",
       "      <th>3</th>\n",
       "      <td>2017-11-16</td>\n",
       "      <td>254.610001</td>\n",
       "      <td>251.229996</td>\n",
       "      <td>251.910004</td>\n",
       "      <td>253.940002</td>\n",
       "      <td>299100.0</td>\n",
       "      <td>223.270691</td>\n",
       "      <td>ESS</td>\n",
       "    </tr>\n",
       "    <tr>\n",
       "      <th>4</th>\n",
       "      <td>2017-11-17</td>\n",
       "      <td>255.130005</td>\n",
       "      <td>250.220001</td>\n",
       "      <td>253.949997</td>\n",
       "      <td>250.850006</td>\n",
       "      <td>233300.0</td>\n",
       "      <td>220.553879</td>\n",
       "      <td>ESS</td>\n",
       "    </tr>\n",
       "  </tbody>\n",
       "</table>\n",
       "</div>"
      ],
      "text/plain": [
       "         Date        High         Low        Open       Close    Volume  \\\n",
       "0  2017-11-13  258.910004  255.399994  256.589996  258.630005  167900.0   \n",
       "1  2017-11-14  258.899994  256.040009  257.709991  256.820007  323800.0   \n",
       "2  2017-11-15  259.829987  251.919998  256.679993  252.149994  352900.0   \n",
       "3  2017-11-16  254.610001  251.229996  251.910004  253.940002  299100.0   \n",
       "4  2017-11-17  255.130005  250.220001  253.949997  250.850006  233300.0   \n",
       "\n",
       "    Adj Close Company  \n",
       "0  227.394241     ESS  \n",
       "1  225.802856     ESS  \n",
       "2  221.696838     ESS  \n",
       "3  223.270691     ESS  \n",
       "4  220.553879     ESS  "
      ]
     },
     "execution_count": 97,
     "metadata": {},
     "output_type": "execute_result"
    }
   ],
   "source": [
    "df_ESS = pd.read_csv('ESS.csv')\n",
    "df_ESS['Company'] = 'ESS'\n",
    "df_ESS.head()\n",
    "#len(df_ESS[df_ESS['Open'] == df_ESS['Adj Close']])"
   ]
  },
  {
   "cell_type": "code",
   "execution_count": 98,
   "metadata": {},
   "outputs": [
    {
     "data": {
      "text/plain": [
       "3"
      ]
     },
     "execution_count": 98,
     "metadata": {},
     "output_type": "execute_result"
    }
   ],
   "source": [
    "df_MRO = pd.read_csv('MRO.csv')\n",
    "df_MRO['Company'] = 'MRO'\n",
    "df_MRO.head()\n",
    "len(df_MRO[df_MRO['Open'] == df_MRO['Adj Close']])"
   ]
  },
  {
   "cell_type": "code",
   "execution_count": 99,
   "metadata": {},
   "outputs": [
    {
     "data": {
      "text/plain": [
       "1"
      ]
     },
     "execution_count": 99,
     "metadata": {},
     "output_type": "execute_result"
    }
   ],
   "source": [
    "df_MSFT = pd.read_csv('MSFT.csv')\n",
    "df_MSFT['Company'] = 'MSFT'\n",
    "df_MSFT.head()\n",
    "len(df_MSFT[df_MSFT['Open'] == df_MSFT['Adj Close']])"
   ]
  },
  {
   "cell_type": "code",
   "execution_count": 100,
   "metadata": {},
   "outputs": [
    {
     "data": {
      "text/html": [
       "<style type=\"text/css\">\n",
       "</style>\n",
       "<table id=\"T_23f64\">\n",
       "  <thead>\n",
       "    <tr>\n",
       "      <th class=\"blank level0\" >&nbsp;</th>\n",
       "      <th id=\"T_23f64_level0_col0\" class=\"col_heading level0 col0\" >Date</th>\n",
       "      <th id=\"T_23f64_level0_col1\" class=\"col_heading level0 col1\" >High</th>\n",
       "      <th id=\"T_23f64_level0_col2\" class=\"col_heading level0 col2\" >Low</th>\n",
       "      <th id=\"T_23f64_level0_col3\" class=\"col_heading level0 col3\" >Open</th>\n",
       "      <th id=\"T_23f64_level0_col4\" class=\"col_heading level0 col4\" >Close</th>\n",
       "      <th id=\"T_23f64_level0_col5\" class=\"col_heading level0 col5\" >Volume</th>\n",
       "      <th id=\"T_23f64_level0_col6\" class=\"col_heading level0 col6\" >Adj Close</th>\n",
       "      <th id=\"T_23f64_level0_col7\" class=\"col_heading level0 col7\" >Company</th>\n",
       "    </tr>\n",
       "  </thead>\n",
       "  <tbody>\n",
       "    <tr>\n",
       "      <th id=\"T_23f64_level0_row0\" class=\"row_heading level0 row0\" >261</th>\n",
       "      <td id=\"T_23f64_row0_col0\" class=\"data row0 col0\" >2018-11-27</td>\n",
       "      <td id=\"T_23f64_row0_col1\" class=\"data row0 col1\" >16.450001</td>\n",
       "      <td id=\"T_23f64_row0_col2\" class=\"data row0 col2\" >15.900000</td>\n",
       "      <td id=\"T_23f64_row0_col3\" class=\"data row0 col3\" >16.200001</td>\n",
       "      <td id=\"T_23f64_row0_col4\" class=\"data row0 col4\" >16.100000</td>\n",
       "      <td id=\"T_23f64_row0_col5\" class=\"data row0 col5\" >13631700.000000</td>\n",
       "      <td id=\"T_23f64_row0_col6\" class=\"data row0 col6\" >15.431390</td>\n",
       "      <td id=\"T_23f64_row0_col7\" class=\"data row0 col7\" >MRO</td>\n",
       "    </tr>\n",
       "    <tr>\n",
       "      <th id=\"T_23f64_level0_row1\" class=\"row_heading level0 row1\" >533</th>\n",
       "      <td id=\"T_23f64_row1_col0\" class=\"data row1 col0\" >2019-12-27</td>\n",
       "      <td id=\"T_23f64_row1_col1\" class=\"data row1 col1\" >159.550003</td>\n",
       "      <td id=\"T_23f64_row1_col2\" class=\"data row1 col2\" >158.220001</td>\n",
       "      <td id=\"T_23f64_row1_col3\" class=\"data row1 col3\" >159.449997</td>\n",
       "      <td id=\"T_23f64_row1_col4\" class=\"data row1 col4\" >158.960007</td>\n",
       "      <td id=\"T_23f64_row1_col5\" class=\"data row1 col5\" >18412800.000000</td>\n",
       "      <td id=\"T_23f64_row1_col6\" class=\"data row1 col6\" >156.570709</td>\n",
       "      <td id=\"T_23f64_row1_col7\" class=\"data row1 col7\" >MSFT</td>\n",
       "    </tr>\n",
       "    <tr>\n",
       "      <th id=\"T_23f64_level0_row2\" class=\"row_heading level0 row2\" >846</th>\n",
       "      <td id=\"T_23f64_row2_col0\" class=\"data row2 col0\" >2021-03-26</td>\n",
       "      <td id=\"T_23f64_row2_col1\" class=\"data row2 col1\" >284.579987</td>\n",
       "      <td id=\"T_23f64_row2_col2\" class=\"data row2 col2\" >278.980011</td>\n",
       "      <td id=\"T_23f64_row2_col3\" class=\"data row2 col3\" >279.029999</td>\n",
       "      <td id=\"T_23f64_row2_col4\" class=\"data row2 col4\" >284.329987</td>\n",
       "      <td id=\"T_23f64_row2_col5\" class=\"data row2 col5\" >334200.000000</td>\n",
       "      <td id=\"T_23f64_row2_col6\" class=\"data row2 col6\" >276.786652</td>\n",
       "      <td id=\"T_23f64_row2_col7\" class=\"data row2 col7\" >ESS</td>\n",
       "    </tr>\n",
       "    <tr>\n",
       "      <th id=\"T_23f64_level0_row3\" class=\"row_heading level0 row3\" >860</th>\n",
       "      <td id=\"T_23f64_row3_col0\" class=\"data row3 col0\" >2021-04-16</td>\n",
       "      <td id=\"T_23f64_row3_col1\" class=\"data row3 col1\" >40.669998</td>\n",
       "      <td id=\"T_23f64_row3_col2\" class=\"data row3 col2\" >39.869999</td>\n",
       "      <td id=\"T_23f64_row3_col3\" class=\"data row3 col3\" >40.639999</td>\n",
       "      <td id=\"T_23f64_row3_col4\" class=\"data row3 col4\" >40.080002</td>\n",
       "      <td id=\"T_23f64_row3_col5\" class=\"data row3 col5\" >1403700.000000</td>\n",
       "      <td id=\"T_23f64_row3_col6\" class=\"data row3 col6\" >40.080002</td>\n",
       "      <td id=\"T_23f64_row3_col7\" class=\"data row3 col7\" >ACGL</td>\n",
       "    </tr>\n",
       "    <tr>\n",
       "      <th id=\"T_23f64_level0_row4\" class=\"row_heading level0 row4\" >673</th>\n",
       "      <td id=\"T_23f64_row4_col0\" class=\"data row4 col0\" >2020-07-20</td>\n",
       "      <td id=\"T_23f64_row4_col1\" class=\"data row4 col1\" >5.620000</td>\n",
       "      <td id=\"T_23f64_row4_col2\" class=\"data row4 col2\" >5.410000</td>\n",
       "      <td id=\"T_23f64_row4_col3\" class=\"data row4 col3\" >5.500000</td>\n",
       "      <td id=\"T_23f64_row4_col4\" class=\"data row4 col4\" >5.490000</td>\n",
       "      <td id=\"T_23f64_row4_col5\" class=\"data row4 col5\" >20886500.000000</td>\n",
       "      <td id=\"T_23f64_row4_col6\" class=\"data row4 col6\" >5.363571</td>\n",
       "      <td id=\"T_23f64_row4_col7\" class=\"data row4 col7\" >MRO</td>\n",
       "    </tr>\n",
       "  </tbody>\n",
       "</table>\n"
      ],
      "text/plain": [
       "<pandas.io.formats.style.Styler at 0x1dab8dbdfa0>"
      ]
     },
     "execution_count": 100,
     "metadata": {},
     "output_type": "execute_result"
    }
   ],
   "source": [
    "frames = [df_ACGL, df_ESS, df_MRO, df_MSFT]\n",
    "df = pd.concat(frames)\n",
    "df.sample(5).style"
   ]
  },
  {
   "cell_type": "markdown",
   "metadata": {},
   "source": [
    "For each company calculate how many days Open price was the same as Adj Close\n",
    "price."
   ]
  },
  {
   "cell_type": "code",
   "execution_count": 101,
   "metadata": {},
   "outputs": [
    {
     "data": {
      "text/plain": [
       "Company\n",
       "ACGL    10\n",
       "ESS      1\n",
       "MRO     14\n",
       "MSFT     4\n",
       "Name: Volume, dtype: int64"
      ]
     },
     "execution_count": 101,
     "metadata": {},
     "output_type": "execute_result"
    }
   ],
   "source": [
    "df_agg = df[df['Open']==df['Close']]\n",
    "num = df_agg.groupby('Company').count()\n",
    "num['Volume']\n"
   ]
  },
  {
   "cell_type": "markdown",
   "metadata": {},
   "source": [
    "What is the highest and lowest volume each company recorded?\n"
   ]
  },
  {
   "cell_type": "code",
   "execution_count": 102,
   "metadata": {},
   "outputs": [],
   "source": [
    "#Lowest\n",
    "Min = df.groupby('Company')[['Volume']].min()\n",
    "#Highet\n",
    "Max = df.groupby('Company')[['Volume']].max()"
   ]
  },
  {
   "cell_type": "code",
   "execution_count": 103,
   "metadata": {},
   "outputs": [
    {
     "data": {
      "text/html": [
       "<div>\n",
       "<style scoped>\n",
       "    .dataframe tbody tr th:only-of-type {\n",
       "        vertical-align: middle;\n",
       "    }\n",
       "\n",
       "    .dataframe tbody tr th {\n",
       "        vertical-align: top;\n",
       "    }\n",
       "\n",
       "    .dataframe thead th {\n",
       "        text-align: right;\n",
       "    }\n",
       "</style>\n",
       "<table border=\"1\" class=\"dataframe\">\n",
       "  <thead>\n",
       "    <tr style=\"text-align: right;\">\n",
       "      <th></th>\n",
       "      <th>Volume</th>\n",
       "    </tr>\n",
       "    <tr>\n",
       "      <th>Company</th>\n",
       "      <th></th>\n",
       "    </tr>\n",
       "  </thead>\n",
       "  <tbody>\n",
       "    <tr>\n",
       "      <th>ACGL</th>\n",
       "      <td>221000.0</td>\n",
       "    </tr>\n",
       "    <tr>\n",
       "      <th>ESS</th>\n",
       "      <td>81800.0</td>\n",
       "    </tr>\n",
       "    <tr>\n",
       "      <th>MRO</th>\n",
       "      <td>4065000.0</td>\n",
       "    </tr>\n",
       "    <tr>\n",
       "      <th>MSFT</th>\n",
       "      <td>7425600.0</td>\n",
       "    </tr>\n",
       "  </tbody>\n",
       "</table>\n",
       "</div>"
      ],
      "text/plain": [
       "            Volume\n",
       "Company           \n",
       "ACGL      221000.0\n",
       "ESS        81800.0\n",
       "MRO      4065000.0\n",
       "MSFT     7425600.0"
      ]
     },
     "execution_count": 103,
     "metadata": {},
     "output_type": "execute_result"
    }
   ],
   "source": [
    "#Call Lowest\n",
    "Min\n"
   ]
  },
  {
   "cell_type": "code",
   "execution_count": 104,
   "metadata": {},
   "outputs": [
    {
     "data": {
      "text/html": [
       "<div>\n",
       "<style scoped>\n",
       "    .dataframe tbody tr th:only-of-type {\n",
       "        vertical-align: middle;\n",
       "    }\n",
       "\n",
       "    .dataframe tbody tr th {\n",
       "        vertical-align: top;\n",
       "    }\n",
       "\n",
       "    .dataframe thead th {\n",
       "        text-align: right;\n",
       "    }\n",
       "</style>\n",
       "<table border=\"1\" class=\"dataframe\">\n",
       "  <thead>\n",
       "    <tr style=\"text-align: right;\">\n",
       "      <th></th>\n",
       "      <th>Volume</th>\n",
       "    </tr>\n",
       "    <tr>\n",
       "      <th>Company</th>\n",
       "      <th></th>\n",
       "    </tr>\n",
       "  </thead>\n",
       "  <tbody>\n",
       "    <tr>\n",
       "      <th>ACGL</th>\n",
       "      <td>93699400.0</td>\n",
       "    </tr>\n",
       "    <tr>\n",
       "      <th>ESS</th>\n",
       "      <td>1736600.0</td>\n",
       "    </tr>\n",
       "    <tr>\n",
       "      <th>MRO</th>\n",
       "      <td>107519800.0</td>\n",
       "    </tr>\n",
       "    <tr>\n",
       "      <th>MSFT</th>\n",
       "      <td>111242100.0</td>\n",
       "    </tr>\n",
       "  </tbody>\n",
       "</table>\n",
       "</div>"
      ],
      "text/plain": [
       "              Volume\n",
       "Company             \n",
       "ACGL      93699400.0\n",
       "ESS        1736600.0\n",
       "MRO      107519800.0\n",
       "MSFT     111242100.0"
      ]
     },
     "execution_count": 104,
     "metadata": {},
     "output_type": "execute_result"
    }
   ],
   "source": [
    "#Call Highest\n",
    "Max"
   ]
  },
  {
   "cell_type": "markdown",
   "metadata": {},
   "source": [
    "Calculate percent change (returns) of Adj Close price. For each company report on its,\n",
    "min, max, mean, median of the returns"
   ]
  },
  {
   "cell_type": "code",
   "execution_count": 105,
   "metadata": {},
   "outputs": [
    {
     "data": {
      "text/html": [
       "<div>\n",
       "<style scoped>\n",
       "    .dataframe tbody tr th:only-of-type {\n",
       "        vertical-align: middle;\n",
       "    }\n",
       "\n",
       "    .dataframe tbody tr th {\n",
       "        vertical-align: top;\n",
       "    }\n",
       "\n",
       "    .dataframe thead th {\n",
       "        text-align: right;\n",
       "    }\n",
       "</style>\n",
       "<table border=\"1\" class=\"dataframe\">\n",
       "  <thead>\n",
       "    <tr style=\"text-align: right;\">\n",
       "      <th></th>\n",
       "      <th>Date</th>\n",
       "      <th>High</th>\n",
       "      <th>Low</th>\n",
       "      <th>Open</th>\n",
       "      <th>Close</th>\n",
       "      <th>Volume</th>\n",
       "      <th>Adj Close</th>\n",
       "      <th>Company</th>\n",
       "      <th>Return</th>\n",
       "    </tr>\n",
       "  </thead>\n",
       "  <tbody>\n",
       "    <tr>\n",
       "      <th>0</th>\n",
       "      <td>2017-11-13</td>\n",
       "      <td>32.013332</td>\n",
       "      <td>31.556667</td>\n",
       "      <td>31.626667</td>\n",
       "      <td>31.900000</td>\n",
       "      <td>1667700.0</td>\n",
       "      <td>31.900000</td>\n",
       "      <td>ACGL</td>\n",
       "      <td>0.008642</td>\n",
       "    </tr>\n",
       "    <tr>\n",
       "      <th>1</th>\n",
       "      <td>2017-11-14</td>\n",
       "      <td>32.049999</td>\n",
       "      <td>31.753332</td>\n",
       "      <td>31.906668</td>\n",
       "      <td>31.853333</td>\n",
       "      <td>1342500.0</td>\n",
       "      <td>31.853333</td>\n",
       "      <td>ACGL</td>\n",
       "      <td>-0.001672</td>\n",
       "    </tr>\n",
       "    <tr>\n",
       "      <th>2</th>\n",
       "      <td>2017-11-15</td>\n",
       "      <td>32.206669</td>\n",
       "      <td>31.500000</td>\n",
       "      <td>31.756666</td>\n",
       "      <td>32.153332</td>\n",
       "      <td>1646400.0</td>\n",
       "      <td>32.153332</td>\n",
       "      <td>ACGL</td>\n",
       "      <td>0.012491</td>\n",
       "    </tr>\n",
       "    <tr>\n",
       "      <th>3</th>\n",
       "      <td>2017-11-16</td>\n",
       "      <td>32.230000</td>\n",
       "      <td>31.840000</td>\n",
       "      <td>32.203335</td>\n",
       "      <td>31.896667</td>\n",
       "      <td>1642800.0</td>\n",
       "      <td>31.896667</td>\n",
       "      <td>ACGL</td>\n",
       "      <td>-0.009523</td>\n",
       "    </tr>\n",
       "    <tr>\n",
       "      <th>4</th>\n",
       "      <td>2017-11-17</td>\n",
       "      <td>32.026669</td>\n",
       "      <td>31.716667</td>\n",
       "      <td>31.760000</td>\n",
       "      <td>31.986668</td>\n",
       "      <td>1018800.0</td>\n",
       "      <td>31.986668</td>\n",
       "      <td>ACGL</td>\n",
       "      <td>0.007137</td>\n",
       "    </tr>\n",
       "  </tbody>\n",
       "</table>\n",
       "</div>"
      ],
      "text/plain": [
       "         Date       High        Low       Open      Close     Volume  \\\n",
       "0  2017-11-13  32.013332  31.556667  31.626667  31.900000  1667700.0   \n",
       "1  2017-11-14  32.049999  31.753332  31.906668  31.853333  1342500.0   \n",
       "2  2017-11-15  32.206669  31.500000  31.756666  32.153332  1646400.0   \n",
       "3  2017-11-16  32.230000  31.840000  32.203335  31.896667  1642800.0   \n",
       "4  2017-11-17  32.026669  31.716667  31.760000  31.986668  1018800.0   \n",
       "\n",
       "   Adj Close Company    Return  \n",
       "0  31.900000    ACGL  0.008642  \n",
       "1  31.853333    ACGL -0.001672  \n",
       "2  32.153332    ACGL  0.012491  \n",
       "3  31.896667    ACGL -0.009523  \n",
       "4  31.986668    ACGL  0.007137  "
      ]
     },
     "execution_count": 105,
     "metadata": {},
     "output_type": "execute_result"
    }
   ],
   "source": [
    "#Calculating the Returns\n",
    "df['Return'] = (df['Adj Close'] - df['Open'])/df['Open']\n",
    "df.head()"
   ]
  },
  {
   "cell_type": "code",
   "execution_count": 106,
   "metadata": {},
   "outputs": [
    {
     "data": {
      "text/html": [
       "<div>\n",
       "<style scoped>\n",
       "    .dataframe tbody tr th:only-of-type {\n",
       "        vertical-align: middle;\n",
       "    }\n",
       "\n",
       "    .dataframe tbody tr th {\n",
       "        vertical-align: top;\n",
       "    }\n",
       "\n",
       "    .dataframe thead th {\n",
       "        text-align: right;\n",
       "    }\n",
       "</style>\n",
       "<table border=\"1\" class=\"dataframe\">\n",
       "  <thead>\n",
       "    <tr style=\"text-align: right;\">\n",
       "      <th></th>\n",
       "      <th>Min</th>\n",
       "      <th>Max</th>\n",
       "      <th>Mean</th>\n",
       "      <th>Median</th>\n",
       "    </tr>\n",
       "    <tr>\n",
       "      <th>Company</th>\n",
       "      <th></th>\n",
       "      <th></th>\n",
       "      <th></th>\n",
       "      <th></th>\n",
       "    </tr>\n",
       "  </thead>\n",
       "  <tbody>\n",
       "    <tr>\n",
       "      <th>ACGL</th>\n",
       "      <td>-0.093884</td>\n",
       "      <td>0.132443</td>\n",
       "      <td>0.000111</td>\n",
       "      <td>0.001124</td>\n",
       "    </tr>\n",
       "    <tr>\n",
       "      <th>ESS</th>\n",
       "      <td>-0.163966</td>\n",
       "      <td>0.042529</td>\n",
       "      <td>-0.052396</td>\n",
       "      <td>-0.056602</td>\n",
       "    </tr>\n",
       "    <tr>\n",
       "      <th>MRO</th>\n",
       "      <td>-0.157624</td>\n",
       "      <td>0.101210</td>\n",
       "      <td>-0.024836</td>\n",
       "      <td>-0.027920</td>\n",
       "    </tr>\n",
       "    <tr>\n",
       "      <th>MSFT</th>\n",
       "      <td>-0.096646</td>\n",
       "      <td>0.081024</td>\n",
       "      <td>-0.015022</td>\n",
       "      <td>-0.014383</td>\n",
       "    </tr>\n",
       "  </tbody>\n",
       "</table>\n",
       "</div>"
      ],
      "text/plain": [
       "              Min       Max      Mean    Median\n",
       "Company                                        \n",
       "ACGL    -0.093884  0.132443  0.000111  0.001124\n",
       "ESS     -0.163966  0.042529 -0.052396 -0.056602\n",
       "MRO     -0.157624  0.101210 -0.024836 -0.027920\n",
       "MSFT    -0.096646  0.081024 -0.015022 -0.014383"
      ]
     },
     "execution_count": 106,
     "metadata": {},
     "output_type": "execute_result"
    }
   ],
   "source": [
    "#Calculating the min, max, mean and median\n",
    "Min2 = df.groupby('Company')[['Return']].min().rename(columns={'Return':'Min'})\n",
    "Max2 = df.groupby('Company')[['Return']].max().rename(columns={'Return':'Max'})\n",
    "Mean2 = df.groupby('Company')[['Return']].mean().rename(columns={'Return':'Mean'})\n",
    "Median2 = df.groupby('Company')[['Return']].median().rename(columns={'Return':'Median'})\n",
    "Return_Result = pd.concat([Min2, Max2, Mean2, Median2], axis=1)\n",
    "Return_Result"
   ]
  },
  {
   "cell_type": "markdown",
   "metadata": {},
   "source": [
    "When did each company record the highest gain and highest loss for the day?\n",
    "Hint: idxmax"
   ]
  },
  {
   "cell_type": "code",
   "execution_count": 107,
   "metadata": {},
   "outputs": [
    {
     "data": {
      "text/plain": [
       "'2020-03-16'"
      ]
     },
     "execution_count": 107,
     "metadata": {},
     "output_type": "execute_result"
    }
   ],
   "source": [
    "Min_ACGL = df_ACGL.loc[df['Return'].idxmin(), 'Date']\n",
    "Min_ESS = df_ESS.loc[df['Return'].idxmin(), 'Date']\n",
    "Min_MRO = df_MRO.loc[df['Return'].idxmin(), 'Date']\n",
    "Min_MSFT = df_MSFT.loc[df['Return'].idxmin(), 'Date']\n",
    "Min_ACGL\n",
    "Min_ESS\n",
    "Min_MRO\n",
    "Min_MSFT"
   ]
  },
  {
   "cell_type": "markdown",
   "metadata": {},
   "source": [
    "How much money would you get if you invested 1000 in each stock in your dataset?\n",
    "Assuming that you buy shares on the first day available in the dataset and sell on the\n",
    "last one? (the price of buying is “Open”, the price for selling “Adj Close”)"
   ]
  },
  {
   "cell_type": "code",
   "execution_count": 118,
   "metadata": {},
   "outputs": [
    {
     "data": {
      "text/plain": [
       "967.2679748524872"
      ]
     },
     "execution_count": 118,
     "metadata": {},
     "output_type": "execute_result"
    }
   ],
   "source": [
    "filter_ACGL = df[df['Company']=='ACGL']\n",
    "def ACGLFunction(filter_ACGL):\n",
    "    ACGL_Stock = 1000\n",
    "    for i in filter_ACGL['Return']:\n",
    "        ACGL_Stock += ACGL_Stock * i\n",
    "    return ACGL_Stock\n",
    "\n",
    "ACGLFunction(filter_ACGL)"
   ]
  },
  {
   "cell_type": "markdown",
   "metadata": {},
   "source": [
    "(1pt task) Show the time series of the Adj Close prices of the companies (ideally in\n",
    "the same plot)\n"
   ]
  },
  {
   "cell_type": "code",
   "execution_count": null,
   "metadata": {},
   "outputs": [
    {
     "data": {
      "text/plain": [
       "Company\n",
       "ACGL    Axes(0.125,0.11;0.775x0.77)\n",
       "ESS     Axes(0.125,0.11;0.775x0.77)\n",
       "MRO     Axes(0.125,0.11;0.775x0.77)\n",
       "MSFT    Axes(0.125,0.11;0.775x0.77)\n",
       "Name: Adj Close, dtype: object"
      ]
     },
     "execution_count": 94,
     "metadata": {},
     "output_type": "execute_result"
    },
    {
     "data": {
      "image/png": "[encoded data removed]",
      "text/plain": [
       "<Figure size 640x480 with 1 Axes>"
      ]
     },
     "metadata": {},
     "output_type": "display_data"
    }
   ],
   "source": [
    "df.groupby('Company')['Adj Close'].plot()"
   ]
  }
 ],
 "metadata": {
  "kernelspec": {
   "display_name": "Python 3",
   "language": "python",
   "name": "python3"
  },
  "language_info": {
   "codemirror_mode": {
    "name": "ipython",
    "version": 3
   },
   "file_extension": ".py",
   "mimetype": "text/x-python",
   "name": "python",
   "nbconvert_exporter": "python",
   "pygments_lexer": "ipython3",
   "version": "3.12.2"
  }
 },
 "nbformat": 4,
 "nbformat_minor": 2
}
